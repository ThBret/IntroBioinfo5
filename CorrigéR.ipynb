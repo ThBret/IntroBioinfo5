{
  "cells": [
    {
      "cell_type": "markdown",
      "metadata": {
        "id": "LU8WmPpSrDGQ"
      },
      "source": [
        "# Introduction à la phylogénie - Exercice\n",
        "\n",
        "Cet exercice mettra en œuvre les concepts de phylogénie abordés durant le cours aujourd'hui à l'aide du langage de programmation R."
      ]
    },
    {
      "cell_type": "markdown",
      "metadata": {
        "id": "wA4lWRXjX_62"
      },
      "source": [
        "---\n",
        "\n",
        "## Exercice : Construction d'un arbre phylogénétique avec R\n",
        "\n",
        "À partir d'un fichier contenant les séquences ADN d'un groupe d'espèces fictives, vous allez utiliser les outils R appropriés pour manipuler les données, effectuer un alignement multiple, et construire un arbre.\n",
        "\n",
        "Vous travaillerez sur un jeu de données génétiques concernant plusieurs espèces dans le but de construire, visualiser et interpréter un arbre phylogénétique. Les données sont des séquences d'ADN au format FASTA.\n",
        "\n",
        "### Données\n",
        "Un fichier nommé `sequences.fasta` contient les séquences d'ADN de 20 espèces fictives, voici un aperçu :\n",
        "\n",
        "```R\n",
        ">Espèce_1\n",
        "TCCGGTTTGGTGTCATGTCTAGAAACATAATCGGAACACCTTTAAAGGGATGCCGAGCAATGTCATTCGCTGCCGCAATTCGGGCTGCCCCGCTACACACATGATCCACACATGCGTATTACCCCGAACGGATGCTGACCGCAATCTTTCGGTTACTTTGGATTGGGCGCCGGTACCCCCTTAGACCTGGGTTTCTGACGCCTGATCTCAAC\n",
        ">Espèce_2\n",
        "ACGCCTTAGCGACAAACATATGCCCCGCGCGAAGGGCTAGTCTCACCGCGCGTACGGGCTCTAACGGAAATCCCACCACCGTCGTCGTGAGAAACGCAACCTATTACCGGAAGCGTCCCCGAAAAGACCCAATACCTGTATTAACCGGTAACGCAACCCATTGCCCCCACCCCCCCTTAGCAACTAGCGAGTTACCTATAATTCATCTCTATCAGAATACCGGCGATAACAGGTTCGTCTAGGGAAGAGCCGCGCGCAGGGAGACCATTGGCTCATATCCATTAATTGCATTACCCACGCAGATCATATAAGCCAGCCATCATTCGTAAGCTTTGGGCTCTAGTATTCCTATACTCCGCAGAGACGCAACATCAGACCTAAGATGCCCGTCCAGGC\n",
        ">Espèce_3\n",
        "GTAGGAAATCTCCTTGTGAGGTACTTCTCGCAGTAAATCCATCAGTTGATAAGAGCCTATGGGGCATACAAGCCCATTGTAATCTCCGAAGCGTGTAGAACGTCTACCTTCTGTCGATAGACCTAAGATGTGAACGCCGACCCAGTCTTGATTGTCTCAAATAATAGGTCAAATGAGATATTCCGTGCAGTGGACTTCTCGTGCAATCTCTCTGCCGATACTCTGGCCGGAAATTTGAGCGGATCGGACGCGGGGGGGTGCAAGAAGCAGGGGACGGGTGGTACACCAATGAGACCGCCTAGAGCCTTCTCCCAGGAGGCCCCGTTCTAAGCAAGCGCGAGATCCTTCTAT\n",
        ">Espèce_4\n",
        "AAGAGTGGCGATTGCAGAACGAGCCGTACCCTCAGGAGTCCTCAGTGCAGGCCTTGAATCGGATTAAGATGCAGGTGCAGACGGCGAGCGTCTATACAGCCATACGATAGACGCGACATTTTTCCATTAACGCCTGGTTGGAGGTGACGGGTATGTGTCAAAGTCGCTGGTCGTCGCCAGGTACGTCCTCAGCCATCATCATGCTTTA\n",
        ">Espèce_5\n",
        "TAGGTCGTTCAGAGATTAGTGGCCCAGTTATAAGCTGAACGCTAGGACTAAGATGCTTCCTAAAAATACCCCTCCGTATCGGTGTGGAGACGTCGAACGTACGAGATTGCTTGAACACGTCCCAGAGTACAACCCTTTACGGGGCAACGGACTCTATTCACTGATTCTCCCGTTTCTGATGTAATATGAATGTATGAGCGGTGAGCTTGAATTATCTGAGCCCACACCGCCGCCAAACTATCGTCTACCTAGGTAGATCCCGATTCAACCAGGCAATTCCGCAGCGGCTGAGACTCACCGAACTCTAACAGACTACCAAATTAAACGCAACTGAAAA\n",
        "..."
      ]
    },
    {
      "cell_type": "markdown",
      "metadata": {
        "id": "N4Mj1rnN9vlS"
      },
      "source": [
        "### 1) Préparation des données\n",
        "Téléchargez le fichier nécessaire :\n",
        "* Un fichier FASTA contenant des séquences ADN (`sequences.fasta`).\n",
        "\n",
        "Installez les bibliothèques nécessaires :\n",
        "* **`ape`**\n",
        "* **`phangorm`**"
      ]
    },
    {
      "cell_type": "code",
      "execution_count": 109,
      "metadata": {
        "colab": {
          "base_uri": "https://localhost:8080/"
        },
        "collapsed": true,
        "id": "OhCcfsanFteW",
        "outputId": "f4d3a2c4-edcd-4e06-9f7a-12043bcdcd30",
        "vscode": {
          "languageId": "r"
        }
      },
      "outputs": [
        {
          "name": "stderr",
          "output_type": "stream",
          "text": [
            "Installing packages into ‘/usr/local/lib/R/site-library’\n",
            "(as ‘lib’ is unspecified)\n",
            "\n"
          ]
        }
      ],
      "source": [
        "# Installation des librairies nécessaires\n",
        "install.packages(c(\"ape\", \"phangorn\"))"
      ]
    },
    {
      "cell_type": "markdown",
      "metadata": {
        "id": "MKfftDSqa8SU"
      },
      "source": [
        "### 2) Lecture manuelle de fichier FASTA\n",
        "\n",
        "Essayons d'abord de lire le fichier contenant les séquences sans bibliothèques extérieures :"
      ]
    },
    {
      "cell_type": "code",
      "execution_count": null,
      "metadata": {
        "colab": {
          "base_uri": "https://localhost:8080/"
        },
        "id": "ul_AbvMnbMNw",
        "outputId": "9156fc4a-da13-4896-b1e2-a5ab39457653",
        "vscode": {
          "languageId": "r"
        }
      },
      "outputs": [
        {
          "name": "stdout",
          "output_type": "stream",
          "text": [
            "        id\n",
            "1 Espèce_1\n",
            "2 Espèce_2\n",
            "3 Espèce_3\n",
            "4 Espèce_4\n",
            "5 Espèce_5\n",
            "6 Espèce_6\n",
            "                                                                                                                                                                                                                                                                                                                                                                                                      sequence\n",
            "1                                                                                                                                                                                         TCCGGTTTGGTGTCATGTCTAGAAACATAATCGGAACACCTTTAAAGGGATGCCGAGCAATGTCATTCGCTGCCGCAATTCGGGCTGCCCCGCTACACACATGATCCACACATGCGTATTACCCCGAACGGATGCTGACCGCAATCTTTCGGTTACTTTGGATTGGGCGCCGGTACCCCCTTAGACCTGGGTTTCTGACGCCTGATCTCAAC\n",
            "2 ACGCCTTAGCGACAAACATATGCCCCGCGCGAAGGGCTAGTCTCACCGCGCGTACGGGCTCTAACGGAAATCCCACCACCGTCGTCGTGAGAAACGCAACCTATTACCGGAAGCGTCCCCGAAAAGACCCAATACCTGTATTAACCGGTAACGCAACCCATTGCCCCCACCCCCCCTTAGCAACTAGCGAGTTACCTATAATTCATCTCTATCAGAATACCGGCGATAACAGGTTCGTCTAGGGAAGAGCCGCGCGCAGGGAGACCATTGGCTCATATCCATTAATTGCATTACCCACGCAGATCATATAAGCCAGCCATCATTCGTAAGCTTTGGGCTCTAGTATTCCTATACTCCGCAGAGACGCAACATCAGACCTAAGATGCCCGTCCAGGC\n",
            "3                                              GTAGGAAATCTCCTTGTGAGGTACTTCTCGCAGTAAATCCATCAGTTGATAAGAGCCTATGGGGCATACAAGCCCATTGTAATCTCCGAAGCGTGTAGAACGTCTACCTTCTGTCGATAGACCTAAGATGTGAACGCCGACCCAGTCTTGATTGTCTCAAATAATAGGTCAAATGAGATATTCCGTGCAGTGGACTTCTCGTGCAATCTCTCTGCCGATACTCTGGCCGGAAATTTGAGCGGATCGGACGCGGGGGGGTGCAAGAAGCAGGGGACGGGTGGTACACCAATGAGACCGCCTAGAGCCTTCTCCCAGGAGGCCCCGTTCTAAGCAAGCGCGAGATCCTTCTAT\n",
            "4                                                                                                                                                                                             AAGAGTGGCGATTGCAGAACGAGCCGTACCCTCAGGAGTCCTCAGTGCAGGCCTTGAATCGGATTAAGATGCAGGTGCAGACGGCGAGCGTCTATACAGCCATACGATAGACGCGACATTTTTCCATTAACGCCTGGTTGGAGGTGACGGGTATGTGTCAAAGTCGCTGGTCGTCGCCAGGTACGTCCTCAGCCATCATCATGCTTTA\n",
            "5                                                            TAGGTCGTTCAGAGATTAGTGGCCCAGTTATAAGCTGAACGCTAGGACTAAGATGCTTCCTAAAAATACCCCTCCGTATCGGTGTGGAGACGTCGAACGTACGAGATTGCTTGAACACGTCCCAGAGTACAACCCTTTACGGGGCAACGGACTCTATTCACTGATTCTCCCGTTTCTGATGTAATATGAATGTATGAGCGGTGAGCTTGAATTATCTGAGCCCACACCGCCGCCAAACTATCGTCTACCTAGGTAGATCCCGATTCAACCAGGCAATTCCGCAGCGGCTGAGACTCACCGAACTCTAACAGACTACCAAATTAAACGCAACTGAAAA\n",
            "6                                         GACTCATGCCTTAGTAGTAGTACCTGGAGGGCGCTTTAACCGAAAACGCCATCCTGTTTGCTTTAGTTAATTATCGGAAGACGACGCCGCTTGCCTGGCATACATCATATCGTTACGGGAGTGGTGTTGATTCCAGGAATAGCAAGTTTGGCACTGTGACACCTCGAGGACCTGCACTGACGGAGGCTTCGTTAAGCTTAATCGGCCAACTGCCCAATTTCGACTCATTCTTAACATGTAGCGTGAAGAACCGTGGTAGCAGTGGAGCGAACTAACGGGCCTCGAGGCGCTATATGGCCAGAGCGATGACAAGACCTTAGTTTGACTATGCACCGACAAACTGAGGCCACTCACTC\n"
          ]
        }
      ],
      "source": [
        "# Charger le fichier FASTA\n",
        "fichier_fasta <- readLines(\"sequences.fasta\")\n",
        "\n",
        "# Initialiser des vecteurs pour stocker les identifiants et les séquences\n",
        "ids <- c()\n",
        "sequences <- c()\n",
        "\n",
        "# Boucle à travers les lignes pour extraire les identifiants et les séquences\n",
        "for (line in fichier_fasta) {\n",
        "  if (grepl(\"^>\", line)) {\n",
        "    # Extraire l'identifiant (enlever le '>')\n",
        "    id <- sub(\"^>\", \"\", line)\n",
        "    ids <- c(ids, id)\n",
        "  } else {\n",
        "    # Extraire la séquence\n",
        "    sequences <- c(sequences, line)\n",
        "  }\n",
        "}\n",
        "\n",
        "# Créer un tableau de données avec les identifiants et les séquences\n",
        "fasta_df <- data.frame(id = ids, sequence = sequences)\n",
        "\n",
        "# Afficher les premières lignes du tableau\n",
        "print(head(fasta_df))"
      ]
    },
    {
      "cell_type": "code",
      "execution_count": 25,
      "metadata": {
        "colab": {
          "base_uri": "https://localhost:8080/"
        },
        "id": "KYOUa6fOcEwU",
        "outputId": "a0af370f-eb35-423f-e259-3ac48b70297a",
        "vscode": {
          "languageId": "r"
        }
      },
      "outputs": [
        {
          "name": "stdout",
          "output_type": "stream",
          "text": [
            "[1] \"Nombre de séquences : 20\"\n"
          ]
        }
      ],
      "source": [
        "# 1. Combien de séquences sont contenues dans le fichier `sequences.fasta`?\n",
        "nb_sequences <- length(fasta_df$sequence)\n",
        "print(paste(\"Nombre de séquences :\", nb_sequences))"
      ]
    },
    {
      "cell_type": "code",
      "execution_count": 30,
      "metadata": {
        "colab": {
          "base_uri": "https://localhost:8080/"
        },
        "id": "F3qrgQyzczsJ",
        "outputId": "75879b05-9468-4c7c-a231-470b068ec9c9",
        "vscode": {
          "languageId": "r"
        }
      },
      "outputs": [
        {
          "name": "stdout",
          "output_type": "stream",
          "text": [
            "[1] \"Longueur moyenne des séquences : 348.85 caractères\"\n"
          ]
        }
      ],
      "source": [
        "# 2. Quelle est la longueur moyenne des séquences ?\n",
        "longueur_moyenne <- mean(nchar(fasta_df$sequence))\n",
        "print(paste(\"Longueur moyenne des séquences :\", longueur_moyenne, \"caractères\"))"
      ]
    },
    {
      "cell_type": "code",
      "execution_count": 31,
      "metadata": {
        "colab": {
          "base_uri": "https://localhost:8080/"
        },
        "id": "xzLokqjOc252",
        "outputId": "f1280a43-31ca-4ad9-c1e7-2e26cca3524a",
        "vscode": {
          "languageId": "r"
        }
      },
      "outputs": [
        {
          "name": "stdout",
          "output_type": "stream",
          "text": [
            "[1] \"Longueur de la plus courte séquence : 206 caractères\"\n",
            "[1] \"Longueur de la plus longue séquence : 495 caractères\"\n"
          ]
        }
      ],
      "source": [
        "# 3. Combien de caractères contient la plus courte séquence ? La plus longue ?\n",
        "longueur_sequences <- nchar(fasta_df$sequence)\n",
        "plus_courte <- min(longueur_sequences)\n",
        "plus_longue <- max(longueur_sequences)\n",
        "print(paste(\"Longueur de la plus courte séquence :\", plus_courte, \"caractères\"))\n",
        "print(paste(\"Longueur de la plus longue séquence :\", plus_longue, \"caractères\"))"
      ]
    },
    {
      "cell_type": "code",
      "execution_count": 41,
      "metadata": {
        "colab": {
          "base_uri": "https://localhost:8080/"
        },
        "id": "E14CTsVhc4Kl",
        "outputId": "07cd7179-3247-4622-c887-81c9ecf1b06e",
        "vscode": {
          "languageId": "r"
        }
      },
      "outputs": [
        {
          "name": "stdout",
          "output_type": "stream",
          "text": [
            "[1] \"Proportion de nucléotides :\"\n",
            "\n",
            "        A         C         G         T \n",
            "0.2478142 0.2572739 0.2466676 0.2482442 \n"
          ]
        }
      ],
      "source": [
        "# 4. Calculez la composition en nucléotides des séquences (proportion de A, C, T, G)\n",
        "proportions <- table(unlist(strsplit(fasta_df$sequence, \"\"))) / sum(nchar(fasta_df$sequence))\n",
        "\n",
        "# Afficher les proportions\n",
        "print(\"Proportion de nucléotides :\")\n",
        "print(proportions)"
      ]
    },
    {
      "cell_type": "code",
      "execution_count": 124,
      "metadata": {
        "colab": {
          "base_uri": "https://localhost:8080/",
          "height": 88
        },
        "id": "TgBXLM8aS0qj",
        "outputId": "bdaa9a25-eb84-4ba4-bf7d-fddc66e7e73a",
        "vscode": {
          "languageId": "r"
        }
      },
      "outputs": [
        {
          "name": "stderr",
          "output_type": "stream",
          "text": [
            "Warning message in check_non_valide(c(\"ACTTGTXASXTT\", \"ACTGATGT\", \"TATAT\")):\n",
            "“Certaines séquences contiennent des caractères non-ATCG ou N :”\n"
          ]
        },
        {
          "data": {
            "text/html": [
              "'ACTTGTXASXTT'"
            ],
            "text/latex": [
              "'ACTTGTXASXTT'"
            ],
            "text/markdown": [
              "'ACTTGTXASXTT'"
            ],
            "text/plain": [
              "[1] \"ACTTGTXASXTT\""
            ]
          },
          "metadata": {},
          "output_type": "display_data"
        },
        {
          "name": "stdout",
          "output_type": "stream",
          "text": [
            "[1] \"Aucun caractère invalide détecté\"\n"
          ]
        }
      ],
      "source": [
        "# 6. Écrivez une fonction pour détecter la présence de caractères non valides (autre que A, C, T, G ou N)\n",
        "check_non_valide <- function(sequences) {\n",
        "  # On peut utiliser la fonction `grepl` pour chercher une série de caractères en sachant que \"^\" inverse la correspondance\n",
        "  invalide <- grepl(\"[^ATCGN]\", sequences)\n",
        "  if (any(invalide)) {\n",
        "    warning(\"Certaines séquences contiennent des caractères non-ATCG ou N :\")\n",
        "    # Donnez la séquence contenant des caractères non valides\n",
        "    return(sequences[which(invalide)])\n",
        "  }\n",
        "  print(\"Aucun caractère invalide détecté\")\n",
        "}\n",
        "\n",
        "# Testez la fonction\n",
        "check_non_valide(c(\"ACTTGTXASXTT\", \"ACTGATGT\", \"TATAT\"))\n",
        "check_non_valide(fasta_df$sequence)"
      ]
    },
    {
      "cell_type": "markdown",
      "metadata": {
        "id": "m3TEsGDboCj9"
      },
      "source": [
        "### 3) Lecture du fichier FASTA avec une bibliothèque spécialisée\n",
        "\n",
        "La bibliothèque **`ape`** simplifie considérablement la lecture des fichiers FASTA. *Elle* inclue une fonction `read.dna` qui :\n",
        "* Vérifie automatiquement la validité des séquences\n",
        "* Fournit des statistiques intégrées\n",
        "* Crée un objet optimisé pour les analyses phylogénétiques"
      ]
    },
    {
      "cell_type": "code",
      "execution_count": 42,
      "metadata": {
        "colab": {
          "base_uri": "https://localhost:8080/",
          "height": 356
        },
        "id": "SeKw9QCzG7Qv",
        "outputId": "ed527a5d-b451-49e4-cd29-ff7307543fdb",
        "vscode": {
          "languageId": "r"
        }
      },
      "outputs": [
        {
          "data": {
            "text/plain": [
              "20 DNA sequences in binary format stored in a list.\n",
              "\n",
              "Mean sequence length: 348.85 \n",
              "   Shortest sequence: 206 \n",
              "    Longest sequence: 495 \n",
              "\n",
              "Labels:\n",
              "Espèce_1\n",
              "Espèce_2\n",
              "Espèce_3\n",
              "Espèce_4\n",
              "Espèce_5\n",
              "Espèce_6\n",
              "...\n",
              "\n",
              "Base composition:\n",
              "    a     c     g     t \n",
              "0.248 0.257 0.247 0.248 \n",
              "(Total: 6.98 kb)"
            ]
          },
          "metadata": {},
          "output_type": "display_data"
        }
      ],
      "source": [
        "# Charger la bibliothèque `ape`\n",
        "library(ape)\n",
        "\n",
        "# Importation des séquences ADN\n",
        "sequences <- read.dna(\"sequences.fasta\", format = \"fasta\")\n",
        "\n",
        "# Résumé du fichier\n",
        "sequences"
      ]
    },
    {
      "cell_type": "code",
      "execution_count": 59,
      "metadata": {
        "colab": {
          "base_uri": "https://localhost:8080/",
          "height": 34
        },
        "id": "qafH-6cL-IcH",
        "outputId": "fa86782d-ab37-46e6-9db2-d8ae369f6dd7",
        "vscode": {
          "languageId": "r"
        }
      },
      "outputs": [
        {
          "data": {
            "text/html": [
              "0"
            ],
            "text/latex": [
              "0"
            ],
            "text/markdown": [
              "0"
            ],
            "text/plain": [
              "[1] 0"
            ]
          },
          "metadata": {},
          "output_type": "display_data"
        }
      ],
      "source": [
        "# 5. Vérifiez si le fichier contient des séquences en double\n",
        "doublons <- duplicated(as.character(sequences))\n",
        "sum(doublons)"
      ]
    },
    {
      "cell_type": "markdown",
      "metadata": {
        "id": "_fQ7knq3-KRB"
      },
      "source": [
        "### 4) Alignement des séquences\n",
        "\n",
        "L'alignement est une étape cruciale qui permet de préparer les séquences pour l'analyse phylogénétique.\n",
        "\n",
        "Nous utilisons l'outil **Clustal** pour l'alignement. Pour ce faire, suivez les étapes suivantes :\n",
        "\n",
        "\n",
        "Alignez les séquences ADN avec l'outil [Clustal](https://www.genome.jp/tools-bin/clustalw)\n",
        "1. Assurez-vous de bien sélectionner l'option \"DNA\".\n",
        "2. Changez l'option \"Output Format\" à \"FASTA\"\n",
        "3. Chargez le fichier `sequences.fasta` en cliquant sur le bouton \"Choose file\" ou en copiant/collant la totalité du contenu du fichier.\n",
        "4. Une fois cela fait, cliquez sur le bouton \"Execute Multiple Alignment\"\n",
        "5. Descendez jusqu'à la ligne disant \"Fasta-Alignment file created [clustalw.fasta]\" et téléchargez le fichier `clustalw.fasta`en cliquant dessus.\n",
        "6. Ensuite, glissez-le vers la section \"Fichier\" de Google Collab (comme plus tôt avec `sequences.fasta`)\n",
        "\n",
        "\n"
      ]
    },
    {
      "cell_type": "code",
      "execution_count": 65,
      "metadata": {
        "colab": {
          "base_uri": "https://localhost:8080/",
          "height": 321
        },
        "id": "GvphiDUu-OJi",
        "outputId": "d36f8899-35ad-4dd0-cb80-d78e6a6745c9",
        "vscode": {
          "languageId": "r"
        }
      },
      "outputs": [
        {
          "data": {
            "text/plain": [
              "20 DNA sequences in binary format stored in a matrix.\n",
              "\n",
              "All sequences of same length: 524 \n",
              "\n",
              "Labels:\n",
              "Espece_1\n",
              "Espece_17\n",
              "Espece_4\n",
              "Espece_6\n",
              "Espece_18\n",
              "Espece_19\n",
              "...\n",
              "\n",
              "Base composition:\n",
              "    a     c     g     t \n",
              "0.248 0.257 0.247 0.248 \n",
              "(Total: 10.48 kb)"
            ]
          },
          "metadata": {},
          "output_type": "display_data"
        }
      ],
      "source": [
        "# Lire l'alignement\n",
        "alignement <- read.dna(\"clustalw.fasta\", format = \"fasta\")\n",
        "\n",
        "# Affichage de l'alignement\n",
        "alignement"
      ]
    },
    {
      "cell_type": "markdown",
      "metadata": {
        "id": "l9sPCGmCxVAf"
      },
      "source": [
        "* On voit bien que, maintenant que les séquences on été alignées, elles ont toutes la même longueur.\n",
        "\n",
        "*A) Pourquoi est-il important que les séquences soient alignées avant l'analyse phylogénétique?*"
      ]
    },
    {
      "cell_type": "code",
      "execution_count": null,
      "metadata": {
        "colab": {
          "base_uri": "https://localhost:8080/",
          "height": 321
        },
        "id": "1OagRI3DxiWc",
        "outputId": "20d94b43-2088-4425-d338-5e0dccf7f7bb",
        "vscode": {
          "languageId": "r"
        }
      },
      "outputs": [
        {
          "name": "stdout",
          "output_type": "stream",
          "text": [
            "[1]  20 524\n"
          ]
        },
        {
          "data": {
            "text/plain": [
              "6 DNA sequences in binary format stored in a matrix.\n",
              "\n",
              "All sequences of same length: 524 \n",
              "\n",
              "Labels:\n",
              "Espece_1\n",
              "Espece_17\n",
              "Espece_4\n",
              "Espece_6\n",
              "Espece_18\n",
              "Espece_19\n",
              "\n",
              "Base composition:\n",
              "    a     c     g     t \n",
              "0.258 0.247 0.250 0.245 \n",
              "(Total: 3.14 kb)"
            ]
          },
          "metadata": {},
          "output_type": "display_data"
        }
      ],
      "source": [
        "# Conversion de l'alignement en matrice phylogénétique\n",
        "matrice_alignement <- as.matrix(alignement)\n",
        "\n",
        "# Imprimez les premières lignes de la matrice\n",
        "head(matrice_alignement)\n",
        "\n",
        "\n",
        "# Vérifiez ses dimensions\n",
        "print(dim(matrice_alignement))"
      ]
    },
    {
      "cell_type": "markdown",
      "metadata": {
        "id": "h4810h2UUtf3"
      },
      "source": [
        "*B) Que représentent les dimensions de la matrice ?*\n",
        "\n",
        "* On peut calculer une matrice de distances génétiques avec `dist.dna` donnant, pour chaque paire de séquences, le pourcentage de positions où les nucléotides sont différents."
      ]
    },
    {
      "cell_type": "code",
      "execution_count": 80,
      "metadata": {
        "colab": {
          "base_uri": "https://localhost:8080/"
        },
        "id": "6B2Vt8B0yoqN",
        "outputId": "07c8245c-0f74-4ccb-eeb1-3f36b46c8d37",
        "vscode": {
          "languageId": "r"
        }
      },
      "outputs": [
        {
          "name": "stdout",
          "output_type": "stream",
          "text": [
            "           Espece_1 Espece_17  Espece_4  Espece_6 Espece_18 Espece_19  Espece_2\n",
            "Espece_17 0.5542169                                                            \n",
            "Espece_4  0.5903614 0.6325301                                                  \n",
            "Espece_6  0.6024096 0.6867470 0.5783133                                        \n",
            "Espece_18 0.6445783 0.5963855 0.6445783 0.6566265                              \n",
            "Espece_19 0.6144578 0.6807229 0.6566265 0.6927711 0.7048193                    \n",
            "Espece_2  0.6686747 0.7168675 0.7409639 0.7409639 0.7108434 0.7409639          \n",
            "Espece_3  0.6325301 0.6325301 0.7108434 0.7108434 0.6626506 0.7048193 0.7108434\n",
            "Espece_8  0.6807229 0.7048193 0.7168675 0.6626506 0.7349398 0.7168675 0.6927711\n",
            "Espece_10 0.7048193 0.7530120 0.6927711 0.6867470 0.6385542 0.6746988 0.6746988\n",
            "Espece_13 0.6807229 0.7108434 0.6927711 0.7228916 0.7048193 0.7228916 0.7710843\n",
            "Espece_5  0.7108434 0.7650602 0.7048193 0.6746988 0.6987952 0.7108434 0.7048193\n",
            "Espece_16 0.6566265 0.6084337 0.6566265 0.6987952 0.7891566 0.6385542 0.7710843\n",
            "Espece_9  0.6325301 0.6445783 0.7289157 0.7168675 0.7108434 0.6807229 0.7590361\n",
            "Espece_20 0.7048193 0.6987952 0.6566265 0.7409639 0.6746988 0.6927711 0.7469880\n",
            "Espece_12 0.7891566 0.7349398 0.7228916 0.6807229 0.7771084 0.7469880 0.7168675\n",
            "Espece_15 0.6807229 0.7168675 0.7048193 0.7650602 0.7289157 0.7228916 0.7048193\n",
            "Espece_7  0.6987952 0.7168675 0.7349398 0.7349398 0.6987952 0.7951807 0.7891566\n",
            "Espece_11 0.7349398 0.6746988 0.7289157 0.7228916 0.7650602 0.6927711 0.7710843\n",
            "Espece_14 0.7048193 0.7469880 0.7168675 0.7108434 0.7710843 0.7409639 0.7469880\n",
            "           Espece_3  Espece_8 Espece_10 Espece_13  Espece_5 Espece_16  Espece_9\n",
            "Espece_17                                                                      \n",
            "Espece_4                                                                       \n",
            "Espece_6                                                                       \n",
            "Espece_18                                                                      \n",
            "Espece_19                                                                      \n",
            "Espece_2                                                                       \n",
            "Espece_3                                                                       \n",
            "Espece_8  0.6686747                                                            \n",
            "Espece_10 0.6746988 0.7409639                                                  \n",
            "Espece_13 0.7108434 0.7409639 0.7168675                                        \n",
            "Espece_5  0.6927711 0.6927711 0.6385542 0.6204819                              \n",
            "Espece_16 0.7228916 0.7168675 0.7168675 0.7108434 0.6927711                    \n",
            "Espece_9  0.6927711 0.7228916 0.7228916 0.7048193 0.7409639 0.6927711          \n",
            "Espece_20 0.7108434 0.7771084 0.6746988 0.8072289 0.6807229 0.6506024 0.6686747\n",
            "Espece_12 0.7289157 0.7891566 0.6987952 0.7168675 0.7048193 0.7771084 0.7469880\n",
            "Espece_15 0.6566265 0.7349398 0.6807229 0.6626506 0.7469880 0.7710843 0.7289157\n",
            "Espece_7  0.6927711 0.7409639 0.7771084 0.7289157 0.7228916 0.7228916 0.7168675\n",
            "Espece_11 0.6807229 0.7349398 0.6987952 0.6807229 0.7409639 0.6927711 0.7168675\n",
            "Espece_14 0.7771084 0.7048193 0.7048193 0.7710843 0.7048193 0.7710843 0.7469880\n",
            "          Espece_20 Espece_12 Espece_15  Espece_7 Espece_11\n",
            "Espece_17                                                  \n",
            "Espece_4                                                   \n",
            "Espece_6                                                   \n",
            "Espece_18                                                  \n",
            "Espece_19                                                  \n",
            "Espece_2                                                   \n",
            "Espece_3                                                   \n",
            "Espece_8                                                   \n",
            "Espece_10                                                  \n",
            "Espece_13                                                  \n",
            "Espece_5                                                   \n",
            "Espece_16                                                  \n",
            "Espece_9                                                   \n",
            "Espece_20                                                  \n",
            "Espece_12 0.7469880                                        \n",
            "Espece_15 0.6927711 0.7108434                              \n",
            "Espece_7  0.7108434 0.7228916 0.6867470                    \n",
            "Espece_11 0.7168675 0.7048193 0.7771084 0.7228916          \n",
            "Espece_14 0.7469880 0.7650602 0.7590361 0.7590361 0.6867470\n"
          ]
        }
      ],
      "source": [
        "# Calcul des distances génétiques\n",
        "dist_matrice <- dist.dna(alignement, model = \"raw\")\n",
        "print(dist_matrice)"
      ]
    },
    {
      "cell_type": "markdown",
      "metadata": {
        "id": "JwUIVVOW-Tqo"
      },
      "source": [
        "### 5) Construction de l'arbre phylogénétique"
      ]
    },
    {
      "cell_type": "markdown",
      "metadata": {
        "id": "bfIvKsrG4Wjf"
      },
      "source": [
        "* **Méthode UPGMA** - L'UPGMA est une méthode simple mais peut être moins précise car elle suppose un taux d'évolution constant.\n"
      ]
    },
    {
      "cell_type": "code",
      "execution_count": 126,
      "metadata": {
        "colab": {
          "base_uri": "https://localhost:8080/",
          "height": 437
        },
        "id": "TJFFXl0Q4WBi",
        "outputId": "3d1daf93-aa65-4a72-d520-85fa0f34abdc",
        "vscode": {
          "languageId": "r"
        }
      },
      "outputs": [
        {
          "data": {
            "image/png": "[encoded data removed]",
            "text/plain": [
              "Plot with title “Arbre phylogénétique (UPGMA)”"
            ]
          },
          "metadata": {
            "image/png": {
              "height": 420,
              "width": 420
            }
          },
          "output_type": "display_data"
        }
      ],
      "source": [
        "arbre_upgma <- upgma(dist_matrice)\n",
        "plot(arbre_upgma, main = \"Arbre phylogénétique (UPGMA)\",cex = 0.8, edge.width = 2)"
      ]
    },
    {
      "cell_type": "markdown",
      "metadata": {
        "id": "LnRuRKqjY0wK"
      },
      "source": [
        "*C) Combien de feuilles comprend cet arbre ?*\n",
        "\n",
        "*D) Donnez deux exemples de clades contenues dans l'arbre*\n",
        "\n",
        "*E) Donnez un exemple de groupe monophylétique comprenant plus de 5 espèces*\n",
        "\n",
        "*F) Donnez un exemple de groupe paraphylétique*\n",
        "\n",
        "*G) Donnez un exemple de groupe polyphylétique*\n",
        "\n",
        "*H) L'arbre comprend-il une polytomie ?*"
      ]
    },
    {
      "cell_type": "markdown",
      "metadata": {
        "id": "rbMehdk5-e2H"
      },
      "source": [
        "* **Méthode NJ (Neighbour-Joining)** - Le NJ est plus robuste car il ne suppose pas un taux d'évolution constant."
      ]
    },
    {
      "cell_type": "code",
      "execution_count": 129,
      "metadata": {
        "colab": {
          "base_uri": "https://localhost:8080/",
          "height": 437
        },
        "id": "3eL0x1bX-m2k",
        "outputId": "27ff2000-2254-4533-b8a7-f5c586f8e454",
        "vscode": {
          "languageId": "r"
        }
      },
      "outputs": [
        {
          "data": {
            "image/png": "[encoded data removed]",
            "text/plain": [
              "Plot with title “Arbre phylogénétique (Neighbour-Joining)”"
            ]
          },
          "metadata": {
            "image/png": {
              "height": 420,
              "width": 420
            }
          },
          "output_type": "display_data"
        }
      ],
      "source": [
        "arbre_nj <- nj(dist_matrice)\n",
        "plot(arbre_nj, main = \"Arbre phylogénétique (Neighbour-Joining)\",cex = 0.8, edge.width = 2)"
      ]
    },
    {
      "cell_type": "markdown",
      "metadata": {
        "id": "kqQ8fU0K-nsZ"
      },
      "source": [
        "* **Méthode maximum de vraisemblance (ML)** - Cette méthode est la plus sophistiquée et prend en compte les modèles d'évolution moléculaire.\n",
        "\n",
        "Pour cette méthode, nous allons utiliser la fonction `pml` de la bibliothèque **`phytools`** pour estimer l'arbre de maximum de vraisemblance.\n"
      ]
    },
    {
      "cell_type": "code",
      "execution_count": 143,
      "metadata": {
        "colab": {
          "base_uri": "https://localhost:8080/",
          "height": 508
        },
        "id": "g4tf1T8v-nZU",
        "outputId": "53c947b9-97ca-46f8-f8ca-13353014a826",
        "vscode": {
          "languageId": "r"
        }
      },
      "outputs": [
        {
          "name": "stdout",
          "output_type": "stream",
          "text": [
            "optimize edge weights:  -10615.43 --> -9473.682 \n",
            "optimize edge weights:  -9473.682 --> -9473.637 \n",
            "optimize edge weights:  -9473.637 --> -9473.635 \n",
            "optimize edge weights:  -9473.635 --> -9473.635 \n"
          ]
        },
        {
          "data": {
            "image/png": "[encoded data removed]",
            "text/plain": [
              "Plot with title “Arbre phylogénétique (Maximum de Vraisemblance)”"
            ]
          },
          "metadata": {
            "image/png": {
              "height": 420,
              "width": 420
            }
          },
          "output_type": "display_data"
        }
      ],
      "source": [
        "library(phangorn)\n",
        "\n",
        "arbre_ml <- pml(tree = arbre_nj, data = phyDat(matrice_alignement))\n",
        "arbre_ml <- optim.pml(arbre_ml)\n",
        "plot(arbre_ml$tree, main = \"Arbre phylogénétique (Maximum de Vraisemblance)\",cex = 0.8, edge.width = 2)"
      ]
    },
    {
      "cell_type": "markdown",
      "metadata": {
        "id": "xqwkP9mscekn"
      },
      "source": [
        "*I) Comparez les longueurs de branches entre les trois méthodes. Quelles sont les principales différences observées ?*"
      ]
    }
  ],
  "metadata": {
    "colab": {
      "provenance": []
    },
    "kernelspec": {
      "display_name": "R",
      "name": "ir"
    },
    "language_info": {
      "name": "R"
    }
  },
  "nbformat": 4,
  "nbformat_minor": 0
}
